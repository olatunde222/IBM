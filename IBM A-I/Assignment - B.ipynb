{
 "cells": [
  {
   "cell_type": "markdown",
   "id": "f0f2788a",
   "metadata": {},
   "source": [
    "B. Normalize the data (5 marks)\n",
    "\n",
    "Repeat Part A but use a normalized version of the data. Recall that one way to normalize the data is by subtracting the mean from the individual predictors and dividing by the standard deviation.\n",
    "\n",
    "How does the mean of the mean squared errors compare to that from Step A?"
   ]
  },
  {
   "cell_type": "code",
   "execution_count": 1,
   "id": "65d3a55c",
   "metadata": {},
   "outputs": [],
   "source": [
    "# importing all the necessary libraries \n",
    "import pandas as pd \n",
    "import numpy as np \n",
    "import keras\n",
    "import tensorflow as tf\n",
    "from keras import layers\n",
    "from keras.models import Sequential\n",
    "from keras.layers import Dense\n",
    "from matplotlib import pyplot as plt \n",
    "from sklearn.model_selection import train_test_split\n",
    "from sklearn import metrics"
   ]
  },
  {
   "cell_type": "code",
   "execution_count": 2,
   "id": "05d9f602",
   "metadata": {},
   "outputs": [],
   "source": [
    "# Defining the path and loading the (concrete data) file using the pandas library \n",
    "\n",
    "path = \"C:\\\\Users\\\\Windows 10 Pro\\\\Desktop\\\\python class\\\\IBM A-I\\\\concrete_data.csv\"\n",
    "data = pd.read_csv(path)"
   ]
  },
  {
   "cell_type": "code",
   "execution_count": 3,
   "id": "2dba7ef2",
   "metadata": {},
   "outputs": [],
   "source": [
    "# Dividing the data into predictors and target for training and testing purpose\n",
    "data.columns\n",
    "# using the whole columns for prediction,with the exception of the [strenght] as target\n",
    "predictors = data.drop([\"Strength\"],axis=1)\n",
    "target = data[\"Strength\"]\n",
    "#spliting the data for training and testing and 0.3 represnting the 30% held for testing  \n",
    "Xtrain,Xtest,Ytrain,Ytest = train_test_split(predictors,target,test_size=0.3,random_state=3)"
   ]
  },
  {
   "cell_type": "code",
   "execution_count": 4,
   "id": "09a91bcc",
   "metadata": {},
   "outputs": [
    {
     "name": "stderr",
     "output_type": "stream",
     "text": [
      "C:\\Users\\Windows 10 Pro\\anaconda3\\lib\\site-packages\\numpy\\core\\fromnumeric.py:3438: FutureWarning: In a future version, DataFrame.mean(axis=None) will return a scalar mean over the entire DataFrame. To retain the old behavior, use 'frame.mean(axis=0)' or just 'frame.mean()'\n",
      "  return mean(axis=axis, dtype=dtype, out=out, **kwargs)\n"
     ]
    }
   ],
   "source": [
    "#getting the mean of the predictors \n",
    "pred_mean = np.mean(predictors)"
   ]
  },
  {
   "cell_type": "code",
   "execution_count": 5,
   "id": "1f7d22d5",
   "metadata": {},
   "outputs": [],
   "source": [
    "# subtracting the mean of thre predictor from the actual predictors \n",
    "nor_prd = predictors - pred_mean"
   ]
  },
  {
   "cell_type": "code",
   "execution_count": 7,
   "id": "f131f31d",
   "metadata": {},
   "outputs": [],
   "source": [
    "#getting the standard diviation of the predictors \n",
    "std_predictors = np.std(predictors)"
   ]
  },
  {
   "cell_type": "code",
   "execution_count": 8,
   "id": "dd5b19e6",
   "metadata": {},
   "outputs": [],
   "source": [
    "#dividing the result of the subtracted mean by the standard diviation to get the normalized predictor\n",
    "normalized_predictors = nor_prd/std_predictors"
   ]
  },
  {
   "cell_type": "code",
   "execution_count": 9,
   "id": "c6fecd19",
   "metadata": {},
   "outputs": [
    {
     "data": {
      "text/html": [
       "<div>\n",
       "<style scoped>\n",
       "    .dataframe tbody tr th:only-of-type {\n",
       "        vertical-align: middle;\n",
       "    }\n",
       "\n",
       "    .dataframe tbody tr th {\n",
       "        vertical-align: top;\n",
       "    }\n",
       "\n",
       "    .dataframe thead th {\n",
       "        text-align: right;\n",
       "    }\n",
       "</style>\n",
       "<table border=\"1\" class=\"dataframe\">\n",
       "  <thead>\n",
       "    <tr style=\"text-align: right;\">\n",
       "      <th></th>\n",
       "      <th>Cement</th>\n",
       "      <th>Blast Furnace Slag</th>\n",
       "      <th>Fly Ash</th>\n",
       "      <th>Water</th>\n",
       "      <th>Superplasticizer</th>\n",
       "      <th>Coarse Aggregate</th>\n",
       "      <th>Fine Aggregate</th>\n",
       "      <th>Age</th>\n",
       "    </tr>\n",
       "  </thead>\n",
       "  <tbody>\n",
       "    <tr>\n",
       "      <th>0</th>\n",
       "      <td>2.477915</td>\n",
       "      <td>-0.856888</td>\n",
       "      <td>-0.847144</td>\n",
       "      <td>-0.916764</td>\n",
       "      <td>-0.620448</td>\n",
       "      <td>0.863154</td>\n",
       "      <td>-1.217670</td>\n",
       "      <td>-0.279733</td>\n",
       "    </tr>\n",
       "    <tr>\n",
       "      <th>1</th>\n",
       "      <td>2.477915</td>\n",
       "      <td>-0.856888</td>\n",
       "      <td>-0.847144</td>\n",
       "      <td>-0.916764</td>\n",
       "      <td>-0.620448</td>\n",
       "      <td>1.056164</td>\n",
       "      <td>-1.217670</td>\n",
       "      <td>-0.279733</td>\n",
       "    </tr>\n",
       "    <tr>\n",
       "      <th>2</th>\n",
       "      <td>0.491425</td>\n",
       "      <td>0.795526</td>\n",
       "      <td>-0.847144</td>\n",
       "      <td>2.175461</td>\n",
       "      <td>-1.039143</td>\n",
       "      <td>-0.526517</td>\n",
       "      <td>-2.240917</td>\n",
       "      <td>3.553066</td>\n",
       "    </tr>\n",
       "    <tr>\n",
       "      <th>3</th>\n",
       "      <td>0.491425</td>\n",
       "      <td>0.795526</td>\n",
       "      <td>-0.847144</td>\n",
       "      <td>2.175461</td>\n",
       "      <td>-1.039143</td>\n",
       "      <td>-0.526517</td>\n",
       "      <td>-2.240917</td>\n",
       "      <td>5.057677</td>\n",
       "    </tr>\n",
       "    <tr>\n",
       "      <th>4</th>\n",
       "      <td>-0.790459</td>\n",
       "      <td>0.678408</td>\n",
       "      <td>-0.847144</td>\n",
       "      <td>0.488793</td>\n",
       "      <td>-1.039143</td>\n",
       "      <td>0.070527</td>\n",
       "      <td>0.647884</td>\n",
       "      <td>4.978487</td>\n",
       "    </tr>\n",
       "  </tbody>\n",
       "</table>\n",
       "</div>"
      ],
      "text/plain": [
       "     Cement  Blast Furnace Slag   Fly Ash     Water  Superplasticizer  \\\n",
       "0  2.477915           -0.856888 -0.847144 -0.916764         -0.620448   \n",
       "1  2.477915           -0.856888 -0.847144 -0.916764         -0.620448   \n",
       "2  0.491425            0.795526 -0.847144  2.175461         -1.039143   \n",
       "3  0.491425            0.795526 -0.847144  2.175461         -1.039143   \n",
       "4 -0.790459            0.678408 -0.847144  0.488793         -1.039143   \n",
       "\n",
       "   Coarse Aggregate  Fine Aggregate       Age  \n",
       "0          0.863154       -1.217670 -0.279733  \n",
       "1          1.056164       -1.217670 -0.279733  \n",
       "2         -0.526517       -2.240917  3.553066  \n",
       "3         -0.526517       -2.240917  5.057677  \n",
       "4          0.070527        0.647884  4.978487  "
      ]
     },
     "execution_count": 9,
     "metadata": {},
     "output_type": "execute_result"
    }
   ],
   "source": [
    "#Viewing the head of the normalized predictor \n",
    "normalized_predictors.head()"
   ]
  },
  {
   "cell_type": "code",
   "execution_count": 10,
   "id": "fdb9144c",
   "metadata": {},
   "outputs": [],
   "source": [
    "# Saving the normalixed prediction and the target into x and y \n",
    "X = normalized_predictors \n",
    "Y = data[\"Strength\"]\n",
    "# passing the data for training and testing and 0.3 represnting the 30% held for testing using sklearn\n",
    "X_train,X_test,Y_train,Y_test = train_test_split(X,Y,test_size=0.3,random_state=2)"
   ]
  },
  {
   "cell_type": "code",
   "execution_count": 11,
   "id": "d7a6975e",
   "metadata": {},
   "outputs": [],
   "source": [
    "# saving the input_shape as 8 since the data has 8 attributes \n",
    "no_of_col = 8\n",
    "# setting up the model \n",
    "Model = Sequential()\n",
    "Model.add(Dense(10,activation=\"relu\",input_shape=(no_of_col,)))\n",
    "Model.add(Dense(1))\n",
    "Model.compile(optimizer=\"adam\",loss='mean_squared_error')"
   ]
  },
  {
   "cell_type": "code",
   "execution_count": 50,
   "id": "505fac40",
   "metadata": {},
   "outputs": [
    {
     "name": "stdout",
     "output_type": "stream",
     "text": [
      "Epoch 1/50\n",
      "16/16 - 0s - loss: 35.1221 - val_loss: 48.4439 - 83ms/epoch - 5ms/step\n",
      "Epoch 2/50\n",
      "16/16 - 0s - loss: 35.1571 - val_loss: 48.4362 - 62ms/epoch - 4ms/step\n",
      "Epoch 3/50\n",
      "16/16 - 0s - loss: 35.1323 - val_loss: 48.3896 - 50ms/epoch - 3ms/step\n",
      "Epoch 4/50\n",
      "16/16 - 0s - loss: 35.1318 - val_loss: 48.3157 - 43ms/epoch - 3ms/step\n",
      "Epoch 5/50\n",
      "16/16 - 0s - loss: 35.1526 - val_loss: 48.4698 - 50ms/epoch - 3ms/step\n",
      "Epoch 6/50\n",
      "16/16 - 0s - loss: 35.1506 - val_loss: 48.4392 - 45ms/epoch - 3ms/step\n",
      "Epoch 7/50\n",
      "16/16 - 0s - loss: 35.1410 - val_loss: 48.3924 - 44ms/epoch - 3ms/step\n",
      "Epoch 8/50\n",
      "16/16 - 0s - loss: 35.1419 - val_loss: 48.2404 - 43ms/epoch - 3ms/step\n",
      "Epoch 9/50\n",
      "16/16 - 0s - loss: 35.1040 - val_loss: 48.3549 - 50ms/epoch - 3ms/step\n",
      "Epoch 10/50\n",
      "16/16 - 0s - loss: 35.1052 - val_loss: 48.4278 - 50ms/epoch - 3ms/step\n",
      "Epoch 11/50\n",
      "16/16 - 0s - loss: 35.1111 - val_loss: 48.3926 - 42ms/epoch - 3ms/step\n",
      "Epoch 12/50\n",
      "16/16 - 0s - loss: 35.1009 - val_loss: 48.4120 - 49ms/epoch - 3ms/step\n",
      "Epoch 13/50\n",
      "16/16 - 0s - loss: 35.1001 - val_loss: 48.3343 - 45ms/epoch - 3ms/step\n",
      "Epoch 14/50\n",
      "16/16 - 0s - loss: 35.1966 - val_loss: 48.1846 - 44ms/epoch - 3ms/step\n",
      "Epoch 15/50\n",
      "16/16 - 0s - loss: 35.2007 - val_loss: 48.4417 - 43ms/epoch - 3ms/step\n",
      "Epoch 16/50\n",
      "16/16 - 0s - loss: 35.1388 - val_loss: 48.3701 - 52ms/epoch - 3ms/step\n",
      "Epoch 17/50\n",
      "16/16 - 0s - loss: 35.1508 - val_loss: 48.2694 - 42ms/epoch - 3ms/step\n",
      "Epoch 18/50\n",
      "16/16 - 0s - loss: 35.1157 - val_loss: 48.3620 - 51ms/epoch - 3ms/step\n",
      "Epoch 19/50\n",
      "16/16 - 0s - loss: 35.1127 - val_loss: 48.5389 - 47ms/epoch - 3ms/step\n",
      "Epoch 20/50\n",
      "16/16 - 0s - loss: 35.0876 - val_loss: 48.3389 - 47ms/epoch - 3ms/step\n",
      "Epoch 21/50\n",
      "16/16 - 0s - loss: 35.1054 - val_loss: 48.2682 - 45ms/epoch - 3ms/step\n",
      "Epoch 22/50\n",
      "16/16 - 0s - loss: 35.0885 - val_loss: 48.5589 - 44ms/epoch - 3ms/step\n",
      "Epoch 23/50\n",
      "16/16 - 0s - loss: 35.0788 - val_loss: 48.4138 - 52ms/epoch - 3ms/step\n",
      "Epoch 24/50\n",
      "16/16 - 0s - loss: 35.1468 - val_loss: 48.4606 - 47ms/epoch - 3ms/step\n",
      "Epoch 25/50\n",
      "16/16 - 0s - loss: 35.1325 - val_loss: 48.2192 - 53ms/epoch - 3ms/step\n",
      "Epoch 26/50\n",
      "16/16 - 0s - loss: 35.1328 - val_loss: 48.4301 - 43ms/epoch - 3ms/step\n",
      "Epoch 27/50\n",
      "16/16 - 0s - loss: 35.1188 - val_loss: 48.2237 - 52ms/epoch - 3ms/step\n",
      "Epoch 28/50\n",
      "16/16 - 0s - loss: 35.1146 - val_loss: 48.3364 - 42ms/epoch - 3ms/step\n",
      "Epoch 29/50\n",
      "16/16 - 0s - loss: 35.0776 - val_loss: 48.4072 - 49ms/epoch - 3ms/step\n",
      "Epoch 30/50\n",
      "16/16 - 0s - loss: 35.1689 - val_loss: 48.5102 - 49ms/epoch - 3ms/step\n",
      "Epoch 31/50\n",
      "16/16 - 0s - loss: 35.1333 - val_loss: 48.4711 - 44ms/epoch - 3ms/step\n",
      "Epoch 32/50\n",
      "16/16 - 0s - loss: 35.0798 - val_loss: 48.3784 - 43ms/epoch - 3ms/step\n",
      "Epoch 33/50\n",
      "16/16 - 0s - loss: 35.0988 - val_loss: 48.4471 - 42ms/epoch - 3ms/step\n",
      "Epoch 34/50\n",
      "16/16 - 0s - loss: 35.1638 - val_loss: 48.5348 - 49ms/epoch - 3ms/step\n",
      "Epoch 35/50\n",
      "16/16 - 0s - loss: 35.1300 - val_loss: 48.4971 - 56ms/epoch - 3ms/step\n",
      "Epoch 36/50\n",
      "16/16 - 0s - loss: 35.0454 - val_loss: 48.3779 - 48ms/epoch - 3ms/step\n",
      "Epoch 37/50\n",
      "16/16 - 0s - loss: 35.0476 - val_loss: 48.4123 - 42ms/epoch - 3ms/step\n",
      "Epoch 38/50\n",
      "16/16 - 0s - loss: 35.1261 - val_loss: 48.2414 - 50ms/epoch - 3ms/step\n",
      "Epoch 39/50\n",
      "16/16 - 0s - loss: 35.0825 - val_loss: 48.2942 - 45ms/epoch - 3ms/step\n",
      "Epoch 40/50\n",
      "16/16 - 0s - loss: 35.0875 - val_loss: 48.2058 - 44ms/epoch - 3ms/step\n",
      "Epoch 41/50\n",
      "16/16 - 0s - loss: 35.0657 - val_loss: 48.3948 - 44ms/epoch - 3ms/step\n",
      "Epoch 42/50\n",
      "16/16 - 0s - loss: 35.0957 - val_loss: 48.5380 - 50ms/epoch - 3ms/step\n",
      "Epoch 43/50\n",
      "16/16 - 0s - loss: 35.0515 - val_loss: 48.3605 - 51ms/epoch - 3ms/step\n",
      "Epoch 44/50\n",
      "16/16 - 0s - loss: 35.0504 - val_loss: 48.3719 - 43ms/epoch - 3ms/step\n",
      "Epoch 45/50\n",
      "16/16 - 0s - loss: 35.0557 - val_loss: 48.1966 - 50ms/epoch - 3ms/step\n",
      "Epoch 46/50\n",
      "16/16 - 0s - loss: 35.0292 - val_loss: 48.4085 - 51ms/epoch - 3ms/step\n",
      "Epoch 47/50\n",
      "16/16 - 0s - loss: 35.0206 - val_loss: 48.3820 - 44ms/epoch - 3ms/step\n",
      "Epoch 48/50\n",
      "16/16 - 0s - loss: 35.0309 - val_loss: 48.3982 - 52ms/epoch - 3ms/step\n",
      "Epoch 49/50\n",
      "16/16 - 0s - loss: 35.0334 - val_loss: 48.3568 - 49ms/epoch - 3ms/step\n",
      "Epoch 50/50\n",
      "16/16 - 0s - loss: 35.0114 - val_loss: 48.3653 - 50ms/epoch - 3ms/step\n"
     ]
    }
   ],
   "source": [
    "#fitting the traing and testing data into the model \n",
    "Model.fit(X_train,Y_train,validation_split=0.3,epochs=50,verbose=2)\n",
    "scores = Model.evaluate(X_test, Y_test, verbose=0)"
   ]
  },
  {
   "cell_type": "code",
   "execution_count": null,
   "id": "6e0642a2",
   "metadata": {},
   "outputs": [],
   "source": []
  }
 ],
 "metadata": {
  "kernelspec": {
   "display_name": "Python 3 (ipykernel)",
   "language": "python",
   "name": "python3"
  },
  "language_info": {
   "codemirror_mode": {
    "name": "ipython",
    "version": 3
   },
   "file_extension": ".py",
   "mimetype": "text/x-python",
   "name": "python",
   "nbconvert_exporter": "python",
   "pygments_lexer": "ipython3",
   "version": "3.9.12"
  }
 },
 "nbformat": 4,
 "nbformat_minor": 5
}
