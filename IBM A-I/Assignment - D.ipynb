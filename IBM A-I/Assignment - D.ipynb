{
 "cells": [
  {
   "cell_type": "markdown",
   "id": "8bd4b4df",
   "metadata": {},
   "source": [
    "D. Increase the number of hidden layers (5 marks)\n",
    "\n",
    "Repeat part B but use a neural network with the following instead:\n",
    "\n",
    "Three hidden layers, each of 10 nodes and ReLU activation function.\n",
    "How does the mean of the mean squared errors compare to that from Step B?"
   ]
  },
  {
   "cell_type": "code",
   "execution_count": 1,
   "id": "e71f293c",
   "metadata": {},
   "outputs": [],
   "source": [
    "#importing all the necessary libraries \n",
    "import pandas as pd \n",
    "import numpy as np \n",
    "import keras\n",
    "import tensorflow as tf\n",
    "from keras import layers\n",
    "from keras.models import Sequential\n",
    "from keras.layers import Dense\n",
    "from matplotlib import pyplot as plt \n",
    "from sklearn.model_selection import train_test_split\n",
    "from sklearn import metrics"
   ]
  },
  {
   "cell_type": "code",
   "execution_count": 2,
   "id": "08ff8732",
   "metadata": {},
   "outputs": [],
   "source": [
    "# Defining the path and loading the (concrete data) file using the pandas library \n",
    "\n",
    "path = \"C:\\\\Users\\\\Windows 10 Pro\\\\Desktop\\\\python class\\\\IBM A-I\\\\concrete_data.csv\"\n",
    "data = pd.read_csv(path)"
   ]
  },
  {
   "cell_type": "code",
   "execution_count": 3,
   "id": "e9431a94",
   "metadata": {},
   "outputs": [],
   "source": [
    "# Dividing the data into predictors and target for training and testing purpose\n",
    "data.columns\n",
    "# using the whole columns for prediction,with the exception of the [strenght] as target\n",
    "predictors = data.drop([\"Strength\"],axis=1)\n",
    "target = data[\"Strength\"]\n",
    "#spliting the data for training and testing and 0.3 represnting the 30% held for testing  \n",
    "Xtrain,Xtest,Ytrain,Ytest = train_test_split(predictors,target,test_size=0.3,random_state=3)"
   ]
  },
  {
   "cell_type": "code",
   "execution_count": 4,
   "id": "cd7e9abf",
   "metadata": {},
   "outputs": [
    {
     "name": "stderr",
     "output_type": "stream",
     "text": [
      "C:\\Users\\Windows 10 Pro\\anaconda3\\lib\\site-packages\\numpy\\core\\fromnumeric.py:3438: FutureWarning: In a future version, DataFrame.mean(axis=None) will return a scalar mean over the entire DataFrame. To retain the old behavior, use 'frame.mean(axis=0)' or just 'frame.mean()'\n",
      "  return mean(axis=axis, dtype=dtype, out=out, **kwargs)\n"
     ]
    }
   ],
   "source": [
    "#getting the mean of the predictors \n",
    "pred_mean = np.mean(predictors)"
   ]
  },
  {
   "cell_type": "code",
   "execution_count": 5,
   "id": "a359b53e",
   "metadata": {},
   "outputs": [],
   "source": [
    "# subtracting the mean of thre predictor from the actual predictors \n",
    "nor_prd = predictors - pred_mean"
   ]
  },
  {
   "cell_type": "code",
   "execution_count": 6,
   "id": "150b0489",
   "metadata": {},
   "outputs": [],
   "source": [
    "#getting the standard diviation of the predictors \n",
    "std_predictors = np.std(predictors)"
   ]
  },
  {
   "cell_type": "code",
   "execution_count": 7,
   "id": "71ad5a59",
   "metadata": {},
   "outputs": [],
   "source": [
    "#dividing the result of the subtracted mean by the standard diviation to get the normalized predictor\n",
    "normalized_predictors = nor_prd/std_predictors"
   ]
  },
  {
   "cell_type": "code",
   "execution_count": 8,
   "id": "5ff3b1d1",
   "metadata": {},
   "outputs": [],
   "source": [
    "# Saving the normalixed prediction and the target into x and y \n",
    "X = normalized_predictors \n",
    "Y = data[\"Strength\"]\n",
    "# passing the data for training and testing and 0.3 represnting the 30% held for testing using sklearn\n",
    "X_train,X_test,Y_train,Y_test = train_test_split(X,Y,test_size=0.3,random_state=2)"
   ]
  },
  {
   "cell_type": "code",
   "execution_count": 42,
   "id": "ff174ab8",
   "metadata": {},
   "outputs": [],
   "source": [
    "# saving the input shape as 8 since it has 8 attributes \n",
    "no_of_col = 8\n",
    "# setting up the model \n",
    "Model = Sequential()\n",
    "Model.add(Dense(10,activation=\"relu\",input_shape=(no_of_col,)))\n",
    "Model.add(Dense(10,activation=\"relu\"))\n",
    "Model.add(Dense(10,activation=\"relu\"))\n",
    "Model.add(Dense(1))\n",
    "Model.compile(optimizer=\"adam\",loss='mean_squared_error')"
   ]
  },
  {
   "cell_type": "code",
   "execution_count": 60,
   "id": "dc5ed689",
   "metadata": {},
   "outputs": [
    {
     "name": "stdout",
     "output_type": "stream",
     "text": [
      "Epoch 1/50\n",
      "16/16 - 0s - loss: 31.7449 - val_loss: 62.3743 - 195ms/epoch - 12ms/step\n",
      "Epoch 2/50\n",
      "16/16 - 0s - loss: 31.8088 - val_loss: 61.8512 - 94ms/epoch - 6ms/step\n",
      "Epoch 3/50\n",
      "16/16 - 0s - loss: 31.7489 - val_loss: 61.5135 - 92ms/epoch - 6ms/step\n",
      "Epoch 4/50\n",
      "16/16 - 0s - loss: 31.4980 - val_loss: 60.9207 - 97ms/epoch - 6ms/step\n",
      "Epoch 5/50\n",
      "16/16 - 0s - loss: 31.8085 - val_loss: 61.5064 - 99ms/epoch - 6ms/step\n",
      "Epoch 6/50\n",
      "16/16 - 0s - loss: 31.9834 - val_loss: 61.8816 - 95ms/epoch - 6ms/step\n",
      "Epoch 7/50\n",
      "16/16 - 0s - loss: 32.1507 - val_loss: 61.4300 - 101ms/epoch - 6ms/step\n",
      "Epoch 8/50\n",
      "16/16 - 0s - loss: 31.6569 - val_loss: 61.6908 - 100ms/epoch - 6ms/step\n",
      "Epoch 9/50\n",
      "16/16 - 0s - loss: 31.6087 - val_loss: 60.9455 - 100ms/epoch - 6ms/step\n",
      "Epoch 10/50\n",
      "16/16 - 0s - loss: 31.7504 - val_loss: 61.3510 - 91ms/epoch - 6ms/step\n",
      "Epoch 11/50\n",
      "16/16 - 0s - loss: 31.6796 - val_loss: 62.0081 - 99ms/epoch - 6ms/step\n",
      "Epoch 12/50\n",
      "16/16 - 0s - loss: 31.5882 - val_loss: 61.3583 - 110ms/epoch - 7ms/step\n",
      "Epoch 13/50\n",
      "16/16 - 0s - loss: 31.4774 - val_loss: 61.9193 - 97ms/epoch - 6ms/step\n",
      "Epoch 14/50\n",
      "16/16 - 0s - loss: 31.9304 - val_loss: 61.5598 - 97ms/epoch - 6ms/step\n",
      "Epoch 15/50\n",
      "16/16 - 0s - loss: 31.6231 - val_loss: 61.8106 - 99ms/epoch - 6ms/step\n",
      "Epoch 16/50\n",
      "16/16 - 0s - loss: 31.4491 - val_loss: 62.1581 - 96ms/epoch - 6ms/step\n",
      "Epoch 17/50\n",
      "16/16 - 0s - loss: 31.5234 - val_loss: 61.7891 - 97ms/epoch - 6ms/step\n",
      "Epoch 18/50\n",
      "16/16 - 0s - loss: 31.4918 - val_loss: 62.2982 - 98ms/epoch - 6ms/step\n",
      "Epoch 19/50\n",
      "16/16 - 0s - loss: 31.5879 - val_loss: 61.4563 - 93ms/epoch - 6ms/step\n",
      "Epoch 20/50\n",
      "16/16 - 0s - loss: 31.9497 - val_loss: 61.9691 - 93ms/epoch - 6ms/step\n",
      "Epoch 21/50\n",
      "16/16 - 0s - loss: 31.8775 - val_loss: 61.5114 - 95ms/epoch - 6ms/step\n",
      "Epoch 22/50\n",
      "16/16 - 0s - loss: 31.6082 - val_loss: 62.4714 - 94ms/epoch - 6ms/step\n",
      "Epoch 23/50\n",
      "16/16 - 0s - loss: 31.9723 - val_loss: 60.6254 - 98ms/epoch - 6ms/step\n",
      "Epoch 24/50\n",
      "16/16 - 0s - loss: 31.6262 - val_loss: 61.0634 - 94ms/epoch - 6ms/step\n",
      "Epoch 25/50\n",
      "16/16 - 0s - loss: 31.8036 - val_loss: 62.3711 - 97ms/epoch - 6ms/step\n",
      "Epoch 26/50\n",
      "16/16 - 0s - loss: 31.4172 - val_loss: 61.8294 - 101ms/epoch - 6ms/step\n",
      "Epoch 27/50\n",
      "16/16 - 0s - loss: 31.7171 - val_loss: 61.0156 - 98ms/epoch - 6ms/step\n",
      "Epoch 28/50\n",
      "16/16 - 0s - loss: 32.2828 - val_loss: 62.3620 - 97ms/epoch - 6ms/step\n",
      "Epoch 29/50\n",
      "16/16 - 0s - loss: 31.6154 - val_loss: 62.2956 - 94ms/epoch - 6ms/step\n",
      "Epoch 30/50\n",
      "16/16 - 0s - loss: 31.3786 - val_loss: 60.9989 - 95ms/epoch - 6ms/step\n",
      "Epoch 31/50\n",
      "16/16 - 0s - loss: 31.4248 - val_loss: 60.5123 - 96ms/epoch - 6ms/step\n",
      "Epoch 32/50\n",
      "16/16 - 0s - loss: 32.1149 - val_loss: 62.1059 - 99ms/epoch - 6ms/step\n",
      "Epoch 33/50\n",
      "16/16 - 0s - loss: 31.9081 - val_loss: 62.7783 - 99ms/epoch - 6ms/step\n",
      "Epoch 34/50\n",
      "16/16 - 0s - loss: 31.5647 - val_loss: 61.1478 - 98ms/epoch - 6ms/step\n",
      "Epoch 35/50\n",
      "16/16 - 0s - loss: 31.4227 - val_loss: 62.6268 - 94ms/epoch - 6ms/step\n",
      "Epoch 36/50\n",
      "16/16 - 0s - loss: 31.5214 - val_loss: 62.6024 - 96ms/epoch - 6ms/step\n",
      "Epoch 37/50\n",
      "16/16 - 0s - loss: 31.4042 - val_loss: 61.1422 - 96ms/epoch - 6ms/step\n",
      "Epoch 38/50\n",
      "16/16 - 0s - loss: 31.6111 - val_loss: 61.6463 - 96ms/epoch - 6ms/step\n",
      "Epoch 39/50\n",
      "16/16 - 0s - loss: 31.4867 - val_loss: 61.7415 - 96ms/epoch - 6ms/step\n",
      "Epoch 40/50\n",
      "16/16 - 0s - loss: 32.0715 - val_loss: 62.1153 - 98ms/epoch - 6ms/step\n",
      "Epoch 41/50\n",
      "16/16 - 0s - loss: 31.3415 - val_loss: 61.4815 - 99ms/epoch - 6ms/step\n",
      "Epoch 42/50\n",
      "16/16 - 0s - loss: 31.4077 - val_loss: 61.7256 - 97ms/epoch - 6ms/step\n",
      "Epoch 43/50\n",
      "16/16 - 0s - loss: 31.3564 - val_loss: 61.7209 - 101ms/epoch - 6ms/step\n",
      "Epoch 44/50\n",
      "16/16 - 0s - loss: 31.5813 - val_loss: 63.4680 - 99ms/epoch - 6ms/step\n",
      "Epoch 45/50\n",
      "16/16 - 0s - loss: 31.2200 - val_loss: 61.4123 - 97ms/epoch - 6ms/step\n",
      "Epoch 46/50\n",
      "16/16 - 0s - loss: 31.2691 - val_loss: 61.7156 - 96ms/epoch - 6ms/step\n",
      "Epoch 47/50\n",
      "16/16 - 0s - loss: 31.2756 - val_loss: 61.5137 - 100ms/epoch - 6ms/step\n",
      "Epoch 48/50\n",
      "16/16 - 0s - loss: 31.1526 - val_loss: 62.7258 - 102ms/epoch - 6ms/step\n",
      "Epoch 49/50\n",
      "16/16 - 0s - loss: 31.3485 - val_loss: 61.7495 - 96ms/epoch - 6ms/step\n",
      "Epoch 50/50\n",
      "16/16 - 0s - loss: 31.0947 - val_loss: 62.5802 - 99ms/epoch - 6ms/step\n"
     ]
    }
   ],
   "source": [
    "#fitting the traing and testing data into the model \n",
    "Model.fit(X_train,Y_train,validation_split=0.3,epochs=50,verbose=2)\n",
    "scores = Model.evaluate(X_test, Y_test, verbose=0)"
   ]
  },
  {
   "cell_type": "code",
   "execution_count": null,
   "id": "b82614f2",
   "metadata": {},
   "outputs": [],
   "source": []
  },
  {
   "cell_type": "code",
   "execution_count": null,
   "id": "50998ea1",
   "metadata": {},
   "outputs": [],
   "source": []
  }
 ],
 "metadata": {
  "kernelspec": {
   "display_name": "Python 3 (ipykernel)",
   "language": "python",
   "name": "python3"
  },
  "language_info": {
   "codemirror_mode": {
    "name": "ipython",
    "version": 3
   },
   "file_extension": ".py",
   "mimetype": "text/x-python",
   "name": "python",
   "nbconvert_exporter": "python",
   "pygments_lexer": "ipython3",
   "version": "3.9.12"
  }
 },
 "nbformat": 4,
 "nbformat_minor": 5
}
