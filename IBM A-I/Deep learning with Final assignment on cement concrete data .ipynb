{
 "cells": [
  {
   "cell_type": "markdown",
   "id": "f38175fb",
   "metadata": {},
   "source": [
    "A. Build a baseline model (5 marks) \n",
    "\n",
    "Use the Keras library to build a neural network with the following:\n",
    "\n",
    "- One hidden layer of 10 nodes, and a ReLU activation function\n",
    "\n",
    "- Use the adam optimizer and the mean squared error  as the loss function.\n",
    "\n",
    "1. Randomly split the data into a training and test sets by holding 30% of the data for testing. You can use the train_test_splithelper function from Scikit-learn.\n",
    "\n",
    "2. Train the model on the training data using 50 epochs.\n",
    "\n",
    "3. Evaluate the model on the test data and compute the mean squared error between the predicted concrete strength and the actual concrete strength. You can use the mean_squared_error function from Scikit-learn.\n",
    "\n",
    "4. Repeat steps 1 - 3, 50 times, i.e., create a list of 50 mean squared errors.\n",
    "\n",
    "5. Report the mean and the standard deviation of the mean squared errors.\n",
    "\n",
    "Submit your Jupyter Notebook with your code and comments."
   ]
  },
  {
   "cell_type": "code",
   "execution_count": 2,
   "id": "660d4602",
   "metadata": {},
   "outputs": [],
   "source": [
    "# importing all the necessary libraries \n",
    "import pandas as pd \n",
    "import numpy as np \n",
    "import keras\n",
    "import tensorflow as tf\n",
    "from keras import layers\n",
    "from keras.models import Sequential\n",
    "from keras.layers import Dense\n",
    "from matplotlib import pyplot as plt \n",
    "from sklearn.model_selection import train_test_split\n",
    "\n",
    "\n"
   ]
  },
  {
   "cell_type": "code",
   "execution_count": 3,
   "id": "531fbd5d",
   "metadata": {},
   "outputs": [
    {
     "data": {
      "text/html": [
       "<div>\n",
       "<style scoped>\n",
       "    .dataframe tbody tr th:only-of-type {\n",
       "        vertical-align: middle;\n",
       "    }\n",
       "\n",
       "    .dataframe tbody tr th {\n",
       "        vertical-align: top;\n",
       "    }\n",
       "\n",
       "    .dataframe thead th {\n",
       "        text-align: right;\n",
       "    }\n",
       "</style>\n",
       "<table border=\"1\" class=\"dataframe\">\n",
       "  <thead>\n",
       "    <tr style=\"text-align: right;\">\n",
       "      <th></th>\n",
       "      <th>Cement</th>\n",
       "      <th>Blast Furnace Slag</th>\n",
       "      <th>Fly Ash</th>\n",
       "      <th>Water</th>\n",
       "      <th>Superplasticizer</th>\n",
       "      <th>Coarse Aggregate</th>\n",
       "      <th>Fine Aggregate</th>\n",
       "      <th>Age</th>\n",
       "      <th>Strength</th>\n",
       "    </tr>\n",
       "  </thead>\n",
       "  <tbody>\n",
       "    <tr>\n",
       "      <th>0</th>\n",
       "      <td>540.0</td>\n",
       "      <td>0.0</td>\n",
       "      <td>0.0</td>\n",
       "      <td>162.0</td>\n",
       "      <td>2.5</td>\n",
       "      <td>1040.0</td>\n",
       "      <td>676.0</td>\n",
       "      <td>28</td>\n",
       "      <td>79.99</td>\n",
       "    </tr>\n",
       "    <tr>\n",
       "      <th>1</th>\n",
       "      <td>540.0</td>\n",
       "      <td>0.0</td>\n",
       "      <td>0.0</td>\n",
       "      <td>162.0</td>\n",
       "      <td>2.5</td>\n",
       "      <td>1055.0</td>\n",
       "      <td>676.0</td>\n",
       "      <td>28</td>\n",
       "      <td>61.89</td>\n",
       "    </tr>\n",
       "    <tr>\n",
       "      <th>2</th>\n",
       "      <td>332.5</td>\n",
       "      <td>142.5</td>\n",
       "      <td>0.0</td>\n",
       "      <td>228.0</td>\n",
       "      <td>0.0</td>\n",
       "      <td>932.0</td>\n",
       "      <td>594.0</td>\n",
       "      <td>270</td>\n",
       "      <td>40.27</td>\n",
       "    </tr>\n",
       "    <tr>\n",
       "      <th>3</th>\n",
       "      <td>332.5</td>\n",
       "      <td>142.5</td>\n",
       "      <td>0.0</td>\n",
       "      <td>228.0</td>\n",
       "      <td>0.0</td>\n",
       "      <td>932.0</td>\n",
       "      <td>594.0</td>\n",
       "      <td>365</td>\n",
       "      <td>41.05</td>\n",
       "    </tr>\n",
       "    <tr>\n",
       "      <th>4</th>\n",
       "      <td>198.6</td>\n",
       "      <td>132.4</td>\n",
       "      <td>0.0</td>\n",
       "      <td>192.0</td>\n",
       "      <td>0.0</td>\n",
       "      <td>978.4</td>\n",
       "      <td>825.5</td>\n",
       "      <td>360</td>\n",
       "      <td>44.30</td>\n",
       "    </tr>\n",
       "  </tbody>\n",
       "</table>\n",
       "</div>"
      ],
      "text/plain": [
       "   Cement  Blast Furnace Slag  Fly Ash  Water  Superplasticizer  \\\n",
       "0   540.0                 0.0      0.0  162.0               2.5   \n",
       "1   540.0                 0.0      0.0  162.0               2.5   \n",
       "2   332.5               142.5      0.0  228.0               0.0   \n",
       "3   332.5               142.5      0.0  228.0               0.0   \n",
       "4   198.6               132.4      0.0  192.0               0.0   \n",
       "\n",
       "   Coarse Aggregate  Fine Aggregate  Age  Strength  \n",
       "0            1040.0           676.0   28     79.99  \n",
       "1            1055.0           676.0   28     61.89  \n",
       "2             932.0           594.0  270     40.27  \n",
       "3             932.0           594.0  365     41.05  \n",
       "4             978.4           825.5  360     44.30  "
      ]
     },
     "execution_count": 3,
     "metadata": {},
     "output_type": "execute_result"
    }
   ],
   "source": [
    "# Defining the path and loading the (concrete data) file using the pandas library \n",
    "\n",
    "path = \"C:\\\\Users\\\\Windows 10 Pro\\\\Desktop\\\\python class\\\\IBM A-I\\\\concrete_data.csv\"\n",
    "data = pd.read_csv(path)\n",
    "data.head()"
   ]
  },
  {
   "cell_type": "code",
   "execution_count": 4,
   "id": "e659ea20",
   "metadata": {},
   "outputs": [
    {
     "name": "stdout",
     "output_type": "stream",
     "text": [
      "The shape of the data is: (1030, 9)\n",
      "The summation of the null inputs in the data if any are:\n",
      "Cement                0\n",
      "Blast Furnace Slag    0\n",
      "Fly Ash               0\n",
      "Water                 0\n",
      "Superplasticizer      0\n",
      "Coarse Aggregate      0\n",
      "Fine Aggregate        0\n",
      "Age                   0\n",
      "Strength              0\n",
      "dtype: int64\n"
     ]
    }
   ],
   "source": [
    "# here trying to ensure the data is clean and has no null input \n",
    "# also the shape of the data \n",
    "\n",
    "print(\"The shape of the data is:\",data.shape)\n",
    "print(\"The summation of the null inputs in the data if any are:\")\n",
    "print(data.isnull().sum())\n"
   ]
  },
  {
   "cell_type": "code",
   "execution_count": 5,
   "id": "24339a33",
   "metadata": {},
   "outputs": [
    {
     "data": {
      "text/html": [
       "<div>\n",
       "<style scoped>\n",
       "    .dataframe tbody tr th:only-of-type {\n",
       "        vertical-align: middle;\n",
       "    }\n",
       "\n",
       "    .dataframe tbody tr th {\n",
       "        vertical-align: top;\n",
       "    }\n",
       "\n",
       "    .dataframe thead th {\n",
       "        text-align: right;\n",
       "    }\n",
       "</style>\n",
       "<table border=\"1\" class=\"dataframe\">\n",
       "  <thead>\n",
       "    <tr style=\"text-align: right;\">\n",
       "      <th></th>\n",
       "      <th>Cement</th>\n",
       "      <th>Blast Furnace Slag</th>\n",
       "      <th>Fly Ash</th>\n",
       "      <th>Water</th>\n",
       "      <th>Superplasticizer</th>\n",
       "      <th>Coarse Aggregate</th>\n",
       "      <th>Fine Aggregate</th>\n",
       "      <th>Age</th>\n",
       "      <th>Strength</th>\n",
       "    </tr>\n",
       "  </thead>\n",
       "  <tbody>\n",
       "    <tr>\n",
       "      <th>count</th>\n",
       "      <td>1030.000000</td>\n",
       "      <td>1030.000000</td>\n",
       "      <td>1030.000000</td>\n",
       "      <td>1030.000000</td>\n",
       "      <td>1030.000000</td>\n",
       "      <td>1030.000000</td>\n",
       "      <td>1030.000000</td>\n",
       "      <td>1030.000000</td>\n",
       "      <td>1030.000000</td>\n",
       "    </tr>\n",
       "    <tr>\n",
       "      <th>mean</th>\n",
       "      <td>281.167864</td>\n",
       "      <td>73.895825</td>\n",
       "      <td>54.188350</td>\n",
       "      <td>181.567282</td>\n",
       "      <td>6.204660</td>\n",
       "      <td>972.918932</td>\n",
       "      <td>773.580485</td>\n",
       "      <td>45.662136</td>\n",
       "      <td>35.817961</td>\n",
       "    </tr>\n",
       "    <tr>\n",
       "      <th>std</th>\n",
       "      <td>104.506364</td>\n",
       "      <td>86.279342</td>\n",
       "      <td>63.997004</td>\n",
       "      <td>21.354219</td>\n",
       "      <td>5.973841</td>\n",
       "      <td>77.753954</td>\n",
       "      <td>80.175980</td>\n",
       "      <td>63.169912</td>\n",
       "      <td>16.705742</td>\n",
       "    </tr>\n",
       "    <tr>\n",
       "      <th>min</th>\n",
       "      <td>102.000000</td>\n",
       "      <td>0.000000</td>\n",
       "      <td>0.000000</td>\n",
       "      <td>121.800000</td>\n",
       "      <td>0.000000</td>\n",
       "      <td>801.000000</td>\n",
       "      <td>594.000000</td>\n",
       "      <td>1.000000</td>\n",
       "      <td>2.330000</td>\n",
       "    </tr>\n",
       "    <tr>\n",
       "      <th>25%</th>\n",
       "      <td>192.375000</td>\n",
       "      <td>0.000000</td>\n",
       "      <td>0.000000</td>\n",
       "      <td>164.900000</td>\n",
       "      <td>0.000000</td>\n",
       "      <td>932.000000</td>\n",
       "      <td>730.950000</td>\n",
       "      <td>7.000000</td>\n",
       "      <td>23.710000</td>\n",
       "    </tr>\n",
       "    <tr>\n",
       "      <th>50%</th>\n",
       "      <td>272.900000</td>\n",
       "      <td>22.000000</td>\n",
       "      <td>0.000000</td>\n",
       "      <td>185.000000</td>\n",
       "      <td>6.400000</td>\n",
       "      <td>968.000000</td>\n",
       "      <td>779.500000</td>\n",
       "      <td>28.000000</td>\n",
       "      <td>34.445000</td>\n",
       "    </tr>\n",
       "    <tr>\n",
       "      <th>75%</th>\n",
       "      <td>350.000000</td>\n",
       "      <td>142.950000</td>\n",
       "      <td>118.300000</td>\n",
       "      <td>192.000000</td>\n",
       "      <td>10.200000</td>\n",
       "      <td>1029.400000</td>\n",
       "      <td>824.000000</td>\n",
       "      <td>56.000000</td>\n",
       "      <td>46.135000</td>\n",
       "    </tr>\n",
       "    <tr>\n",
       "      <th>max</th>\n",
       "      <td>540.000000</td>\n",
       "      <td>359.400000</td>\n",
       "      <td>200.100000</td>\n",
       "      <td>247.000000</td>\n",
       "      <td>32.200000</td>\n",
       "      <td>1145.000000</td>\n",
       "      <td>992.600000</td>\n",
       "      <td>365.000000</td>\n",
       "      <td>82.600000</td>\n",
       "    </tr>\n",
       "  </tbody>\n",
       "</table>\n",
       "</div>"
      ],
      "text/plain": [
       "            Cement  Blast Furnace Slag      Fly Ash        Water  \\\n",
       "count  1030.000000         1030.000000  1030.000000  1030.000000   \n",
       "mean    281.167864           73.895825    54.188350   181.567282   \n",
       "std     104.506364           86.279342    63.997004    21.354219   \n",
       "min     102.000000            0.000000     0.000000   121.800000   \n",
       "25%     192.375000            0.000000     0.000000   164.900000   \n",
       "50%     272.900000           22.000000     0.000000   185.000000   \n",
       "75%     350.000000          142.950000   118.300000   192.000000   \n",
       "max     540.000000          359.400000   200.100000   247.000000   \n",
       "\n",
       "       Superplasticizer  Coarse Aggregate  Fine Aggregate          Age  \\\n",
       "count       1030.000000       1030.000000     1030.000000  1030.000000   \n",
       "mean           6.204660        972.918932      773.580485    45.662136   \n",
       "std            5.973841         77.753954       80.175980    63.169912   \n",
       "min            0.000000        801.000000      594.000000     1.000000   \n",
       "25%            0.000000        932.000000      730.950000     7.000000   \n",
       "50%            6.400000        968.000000      779.500000    28.000000   \n",
       "75%           10.200000       1029.400000      824.000000    56.000000   \n",
       "max           32.200000       1145.000000      992.600000   365.000000   \n",
       "\n",
       "          Strength  \n",
       "count  1030.000000  \n",
       "mean     35.817961  \n",
       "std      16.705742  \n",
       "min       2.330000  \n",
       "25%      23.710000  \n",
       "50%      34.445000  \n",
       "75%      46.135000  \n",
       "max      82.600000  "
      ]
     },
     "execution_count": 5,
     "metadata": {},
     "output_type": "execute_result"
    }
   ],
   "source": [
    "# trying to see the description of the data \n",
    "data.describe()"
   ]
  },
  {
   "cell_type": "code",
   "execution_count": 6,
   "id": "b0ec6a1f",
   "metadata": {},
   "outputs": [],
   "source": [
    "# Dividing the data into predictors and target for training and testing purpose\n",
    "data.columns\n",
    "# using the whole columns for prediction,with the exception of the [strenght] as target\n",
    "predictors = data.drop([\"Strength\"],axis=1)\n",
    "target = data[\"Strength\"]\n",
    "#spliting the data for training and testing and 0.3 represnting the 30% held for testing  \n",
    "Xtrain,Xtest,Ytrain,Ytest = train_test_split(predictors,target,test_size=0.3,random_state=3)"
   ]
  },
  {
   "cell_type": "code",
   "execution_count": 7,
   "id": "e9e944a4",
   "metadata": {},
   "outputs": [],
   "source": [
    "number_of_columns = predictors.shape[1]"
   ]
  },
  {
   "cell_type": "code",
   "execution_count": 8,
   "id": "401f81b0",
   "metadata": {},
   "outputs": [],
   "source": [
    "Model = Sequential()\n",
    "Model.add(Dense(10,activation=\"relu\",input_shape=(number_of_columns,)))\n",
    "Model.add(Dense(1))\n",
    "Model.compile(optimizer=\"adam\",loss='mean_squared_error')"
   ]
  },
  {
   "cell_type": "code",
   "execution_count": 346,
   "id": "34ce2c58",
   "metadata": {},
   "outputs": [
    {
     "name": "stdout",
     "output_type": "stream",
     "text": [
      "Epoch 1/50\n",
      "16/16 - 1s - loss: 1466.9460 - val_loss: 1634.4141 - 1s/epoch - 72ms/step\n",
      "Epoch 2/50\n",
      "16/16 - 0s - loss: 1456.3773 - val_loss: 1622.0593 - 93ms/epoch - 6ms/step\n",
      "Epoch 3/50\n",
      "16/16 - 0s - loss: 1445.9298 - val_loss: 1609.2073 - 88ms/epoch - 5ms/step\n",
      "Epoch 4/50\n",
      "16/16 - 0s - loss: 1435.1407 - val_loss: 1596.1273 - 91ms/epoch - 6ms/step\n",
      "Epoch 5/50\n",
      "16/16 - 0s - loss: 1424.0103 - val_loss: 1582.7957 - 82ms/epoch - 5ms/step\n",
      "Epoch 6/50\n",
      "16/16 - 0s - loss: 1412.6547 - val_loss: 1569.1544 - 83ms/epoch - 5ms/step\n",
      "Epoch 7/50\n",
      "16/16 - 0s - loss: 1401.0214 - val_loss: 1555.1117 - 91ms/epoch - 6ms/step\n",
      "Epoch 8/50\n",
      "16/16 - 0s - loss: 1389.0032 - val_loss: 1540.7234 - 86ms/epoch - 5ms/step\n",
      "Epoch 9/50\n",
      "16/16 - 0s - loss: 1376.6749 - val_loss: 1525.7141 - 84ms/epoch - 5ms/step\n",
      "Epoch 10/50\n",
      "16/16 - 0s - loss: 1363.9421 - val_loss: 1509.9368 - 104ms/epoch - 6ms/step\n",
      "Epoch 11/50\n",
      "16/16 - 0s - loss: 1350.4636 - val_loss: 1494.0446 - 85ms/epoch - 5ms/step\n",
      "Epoch 12/50\n",
      "16/16 - 0s - loss: 1336.7146 - val_loss: 1477.2922 - 86ms/epoch - 5ms/step\n",
      "Epoch 13/50\n",
      "16/16 - 0s - loss: 1322.3591 - val_loss: 1459.8293 - 91ms/epoch - 6ms/step\n",
      "Epoch 14/50\n",
      "16/16 - 0s - loss: 1307.2939 - val_loss: 1442.1133 - 75ms/epoch - 5ms/step\n",
      "Epoch 15/50\n",
      "16/16 - 0s - loss: 1291.8124 - val_loss: 1423.2699 - 85ms/epoch - 5ms/step\n",
      "Epoch 16/50\n",
      "16/16 - 0s - loss: 1275.6973 - val_loss: 1403.6787 - 81ms/epoch - 5ms/step\n",
      "Epoch 17/50\n",
      "16/16 - 0s - loss: 1258.5546 - val_loss: 1384.0580 - 80ms/epoch - 5ms/step\n",
      "Epoch 18/50\n",
      "16/16 - 0s - loss: 1241.2344 - val_loss: 1363.5292 - 74ms/epoch - 5ms/step\n",
      "Epoch 19/50\n",
      "16/16 - 0s - loss: 1223.4409 - val_loss: 1342.2839 - 83ms/epoch - 5ms/step\n",
      "Epoch 20/50\n",
      "16/16 - 0s - loss: 1204.9423 - val_loss: 1320.3910 - 73ms/epoch - 5ms/step\n",
      "Epoch 21/50\n",
      "16/16 - 0s - loss: 1185.9207 - val_loss: 1298.2887 - 72ms/epoch - 4ms/step\n",
      "Epoch 22/50\n",
      "16/16 - 0s - loss: 1166.6033 - val_loss: 1275.6509 - 73ms/epoch - 5ms/step\n",
      "Epoch 23/50\n",
      "16/16 - 0s - loss: 1146.6893 - val_loss: 1252.6556 - 74ms/epoch - 5ms/step\n",
      "Epoch 24/50\n",
      "16/16 - 0s - loss: 1126.4651 - val_loss: 1229.3823 - 75ms/epoch - 5ms/step\n",
      "Epoch 25/50\n",
      "16/16 - 0s - loss: 1105.9092 - val_loss: 1205.9381 - 72ms/epoch - 4ms/step\n",
      "Epoch 26/50\n",
      "16/16 - 0s - loss: 1085.3176 - val_loss: 1181.3671 - 76ms/epoch - 5ms/step\n",
      "Epoch 27/50\n",
      "16/16 - 0s - loss: 1064.4834 - val_loss: 1156.5634 - 66ms/epoch - 4ms/step\n",
      "Epoch 28/50\n",
      "16/16 - 0s - loss: 1042.5813 - val_loss: 1133.0820 - 68ms/epoch - 4ms/step\n",
      "Epoch 29/50\n",
      "16/16 - 0s - loss: 1021.4229 - val_loss: 1108.7371 - 79ms/epoch - 5ms/step\n",
      "Epoch 30/50\n",
      "16/16 - 0s - loss: 1000.1868 - val_loss: 1084.1038 - 76ms/epoch - 5ms/step\n",
      "Epoch 31/50\n",
      "16/16 - 0s - loss: 978.7740 - val_loss: 1059.4780 - 76ms/epoch - 5ms/step\n",
      "Epoch 32/50\n",
      "16/16 - 0s - loss: 957.1914 - val_loss: 1035.0964 - 88ms/epoch - 6ms/step\n",
      "Epoch 33/50\n",
      "16/16 - 0s - loss: 936.0140 - val_loss: 1010.1177 - 75ms/epoch - 5ms/step\n",
      "Epoch 34/50\n",
      "16/16 - 0s - loss: 914.8279 - val_loss: 985.4134 - 79ms/epoch - 5ms/step\n",
      "Epoch 35/50\n",
      "16/16 - 0s - loss: 893.4443 - val_loss: 961.4939 - 90ms/epoch - 6ms/step\n",
      "Epoch 36/50\n",
      "16/16 - 0s - loss: 872.3361 - val_loss: 937.8535 - 78ms/epoch - 5ms/step\n",
      "Epoch 37/50\n",
      "16/16 - 0s - loss: 851.8900 - val_loss: 913.9567 - 81ms/epoch - 5ms/step\n",
      "Epoch 38/50\n",
      "16/16 - 0s - loss: 831.2267 - val_loss: 890.6701 - 83ms/epoch - 5ms/step\n",
      "Epoch 39/50\n",
      "16/16 - 0s - loss: 810.8943 - val_loss: 867.7881 - 88ms/epoch - 6ms/step\n",
      "Epoch 40/50\n",
      "16/16 - 0s - loss: 791.2373 - val_loss: 844.7119 - 77ms/epoch - 5ms/step\n",
      "Epoch 41/50\n",
      "16/16 - 0s - loss: 771.0607 - val_loss: 822.8042 - 79ms/epoch - 5ms/step\n",
      "Epoch 42/50\n",
      "16/16 - 0s - loss: 752.0924 - val_loss: 800.7252 - 84ms/epoch - 5ms/step\n",
      "Epoch 43/50\n",
      "16/16 - 0s - loss: 733.0643 - val_loss: 779.3864 - 86ms/epoch - 5ms/step\n",
      "Epoch 44/50\n",
      "16/16 - 0s - loss: 714.3369 - val_loss: 759.1271 - 76ms/epoch - 5ms/step\n",
      "Epoch 45/50\n",
      "16/16 - 0s - loss: 696.4542 - val_loss: 738.5513 - 74ms/epoch - 5ms/step\n",
      "Epoch 46/50\n",
      "16/16 - 0s - loss: 678.7782 - val_loss: 718.4467 - 69ms/epoch - 4ms/step\n",
      "Epoch 47/50\n",
      "16/16 - 0s - loss: 661.4104 - val_loss: 698.9351 - 76ms/epoch - 5ms/step\n",
      "Epoch 48/50\n",
      "16/16 - 0s - loss: 644.2593 - val_loss: 680.4935 - 80ms/epoch - 5ms/step\n",
      "Epoch 49/50\n",
      "16/16 - 0s - loss: 628.2369 - val_loss: 661.7700 - 78ms/epoch - 5ms/step\n",
      "Epoch 50/50\n",
      "16/16 - 0s - loss: 612.1192 - val_loss: 644.1230 - 78ms/epoch - 5ms/step\n"
     ]
    },
    {
     "data": {
      "text/plain": [
       "<keras.callbacks.History at 0x1799953aeb0>"
      ]
     },
     "execution_count": 346,
     "metadata": {},
     "output_type": "execute_result"
    }
   ],
   "source": [
    "#fitting the traing and testing data into the model \n",
    "Model.fit(Xtrain,Ytrain,validation_split=0.3,epochs=50,verbose=2)"
   ]
  },
  {
   "cell_type": "code",
   "execution_count": 303,
   "id": "5395e76c",
   "metadata": {},
   "outputs": [
    {
     "name": "stdout",
     "output_type": "stream",
     "text": [
      "10/10 [==============================] - 0s 997us/step\n"
     ]
    }
   ],
   "source": [
    "prediction = Model.predict(Xtest)"
   ]
  },
  {
   "cell_type": "code",
   "execution_count": 304,
   "id": "604d474a",
   "metadata": {},
   "outputs": [],
   "source": [
    "from sklearn import metrics"
   ]
  },
  {
   "cell_type": "code",
   "execution_count": 305,
   "id": "5cfba489",
   "metadata": {},
   "outputs": [],
   "source": [
    "mse = metrics.mean_squared_error(prediction,Ytest)"
   ]
  },
  {
   "cell_type": "code",
   "execution_count": 306,
   "id": "0157bc7c",
   "metadata": {},
   "outputs": [
    {
     "data": {
      "text/plain": [
       "50.98168122300588"
      ]
     },
     "execution_count": 306,
     "metadata": {},
     "output_type": "execute_result"
    }
   ],
   "source": [
    "mse"
   ]
  },
  {
   "cell_type": "code",
   "execution_count": 307,
   "id": "d0a24718",
   "metadata": {},
   "outputs": [],
   "source": [
    "l = [182.93,124.44,121.23,131.52,125.77,124.06,\n",
    "    122.22,122.44,139.39,123.64,126.80,133.14,122.97,126.47,\n",
    "    113.99,81.27,74.56,80.77,69.95,66.64,65.36,64.00,\n",
    "    60.88,62.16,59.69,80.37,65.32,56.12,56.47,54.09,53.55,53.03,\n",
    "    53.23,59.37,53.00,51.94,56.51,54.34,56.37,53.28,55.44,52.28,\n",
    "    53.16,56.45,52.36,52.43,58.22,57.77,51.18,50.97]"
   ]
  },
  {
   "cell_type": "code",
   "execution_count": 308,
   "id": "9cc79443",
   "metadata": {},
   "outputs": [],
   "source": [
    "mean = np.mean(l)"
   ]
  },
  {
   "cell_type": "code",
   "execution_count": 309,
   "id": "2da6ae06",
   "metadata": {},
   "outputs": [
    {
     "data": {
      "text/plain": [
       "80.4708"
      ]
     },
     "execution_count": 309,
     "metadata": {},
     "output_type": "execute_result"
    }
   ],
   "source": [
    "mean"
   ]
  },
  {
   "cell_type": "code",
   "execution_count": 310,
   "id": "3bf9b0b4",
   "metadata": {},
   "outputs": [],
   "source": [
    "std = np.std(l)"
   ]
  },
  {
   "cell_type": "code",
   "execution_count": 311,
   "id": "32c47916",
   "metadata": {},
   "outputs": [
    {
     "data": {
      "text/plain": [
       "33.8847805859799"
      ]
     },
     "execution_count": 311,
     "metadata": {},
     "output_type": "execute_result"
    }
   ],
   "source": [
    "std"
   ]
  },
  {
   "cell_type": "code",
   "execution_count": 422,
   "id": "c51429f9",
   "metadata": {},
   "outputs": [
    {
     "ename": "KeyboardInterrupt",
     "evalue": "",
     "output_type": "error",
     "traceback": [
      "\u001b[1;31m---------------------------------------------------------------------------\u001b[0m",
      "\u001b[1;31mKeyboardInterrupt\u001b[0m                         Traceback (most recent call last)",
      "Input \u001b[1;32mIn [422]\u001b[0m, in \u001b[0;36m<cell line: 3>\u001b[1;34m()\u001b[0m\n\u001b[0;32m      5\u001b[0m i\u001b[38;5;241m=\u001b[39mi\u001b[38;5;241m-\u001b[39m\u001b[38;5;241m1\u001b[39m\n\u001b[0;32m      6\u001b[0m \u001b[38;5;28;01mwhile\u001b[39;00m i \u001b[38;5;241m<\u001b[39m \u001b[38;5;241m3\u001b[39m:\n\u001b[1;32m----> 7\u001b[0m     y \u001b[38;5;241m=\u001b[39m \u001b[43mmetrics\u001b[49m\u001b[38;5;241;43m.\u001b[39;49m\u001b[43mmean_squared_error\u001b[49m\u001b[43m(\u001b[49m\u001b[43mprediction\u001b[49m\u001b[43m,\u001b[49m\u001b[43mYtest\u001b[49m\u001b[43m)\u001b[49m\n\u001b[0;32m      8\u001b[0m     mse_list\u001b[38;5;241m.\u001b[39mappend(y\u001b[38;5;241m*\u001b[39ma)\n\u001b[0;32m      9\u001b[0m     \u001b[38;5;66;03m#i=i-1\u001b[39;00m\n\u001b[0;32m     10\u001b[0m     \u001b[38;5;66;03m#mse_list.append(y*a)\u001b[39;00m\n",
      "File \u001b[1;32m~\\anaconda3\\lib\\site-packages\\sklearn\\metrics\\_regression.py:441\u001b[0m, in \u001b[0;36mmean_squared_error\u001b[1;34m(y_true, y_pred, sample_weight, multioutput, squared)\u001b[0m\n\u001b[0;32m    381\u001b[0m \u001b[38;5;124;03m\"\"\"Mean squared error regression loss.\u001b[39;00m\n\u001b[0;32m    382\u001b[0m \n\u001b[0;32m    383\u001b[0m \u001b[38;5;124;03mRead more in the :ref:`User Guide <mean_squared_error>`.\u001b[39;00m\n\u001b[1;32m   (...)\u001b[0m\n\u001b[0;32m    436\u001b[0m \u001b[38;5;124;03m0.825...\u001b[39;00m\n\u001b[0;32m    437\u001b[0m \u001b[38;5;124;03m\"\"\"\u001b[39;00m\n\u001b[0;32m    438\u001b[0m y_type, y_true, y_pred, multioutput \u001b[38;5;241m=\u001b[39m _check_reg_targets(\n\u001b[0;32m    439\u001b[0m     y_true, y_pred, multioutput\n\u001b[0;32m    440\u001b[0m )\n\u001b[1;32m--> 441\u001b[0m \u001b[43mcheck_consistent_length\u001b[49m\u001b[43m(\u001b[49m\u001b[43my_true\u001b[49m\u001b[43m,\u001b[49m\u001b[43m \u001b[49m\u001b[43my_pred\u001b[49m\u001b[43m,\u001b[49m\u001b[43m \u001b[49m\u001b[43msample_weight\u001b[49m\u001b[43m)\u001b[49m\n\u001b[0;32m    442\u001b[0m output_errors \u001b[38;5;241m=\u001b[39m np\u001b[38;5;241m.\u001b[39maverage((y_true \u001b[38;5;241m-\u001b[39m y_pred) \u001b[38;5;241m*\u001b[39m\u001b[38;5;241m*\u001b[39m \u001b[38;5;241m2\u001b[39m, axis\u001b[38;5;241m=\u001b[39m\u001b[38;5;241m0\u001b[39m, weights\u001b[38;5;241m=\u001b[39msample_weight)\n\u001b[0;32m    444\u001b[0m \u001b[38;5;28;01mif\u001b[39;00m \u001b[38;5;129;01mnot\u001b[39;00m squared:\n",
      "File \u001b[1;32m~\\anaconda3\\lib\\site-packages\\sklearn\\utils\\validation.py:330\u001b[0m, in \u001b[0;36mcheck_consistent_length\u001b[1;34m(*arrays)\u001b[0m\n\u001b[0;32m    319\u001b[0m \u001b[38;5;124;03m\"\"\"Check that all arrays have consistent first dimensions.\u001b[39;00m\n\u001b[0;32m    320\u001b[0m \n\u001b[0;32m    321\u001b[0m \u001b[38;5;124;03mChecks whether all objects in arrays have the same shape or length.\u001b[39;00m\n\u001b[1;32m   (...)\u001b[0m\n\u001b[0;32m    326\u001b[0m \u001b[38;5;124;03m    Objects that will be checked for consistent length.\u001b[39;00m\n\u001b[0;32m    327\u001b[0m \u001b[38;5;124;03m\"\"\"\u001b[39;00m\n\u001b[0;32m    329\u001b[0m lengths \u001b[38;5;241m=\u001b[39m [_num_samples(X) \u001b[38;5;28;01mfor\u001b[39;00m X \u001b[38;5;129;01min\u001b[39;00m arrays \u001b[38;5;28;01mif\u001b[39;00m X \u001b[38;5;129;01mis\u001b[39;00m \u001b[38;5;129;01mnot\u001b[39;00m \u001b[38;5;28;01mNone\u001b[39;00m]\n\u001b[1;32m--> 330\u001b[0m uniques \u001b[38;5;241m=\u001b[39m \u001b[43mnp\u001b[49m\u001b[38;5;241;43m.\u001b[39;49m\u001b[43munique\u001b[49m\u001b[43m(\u001b[49m\u001b[43mlengths\u001b[49m\u001b[43m)\u001b[49m\n\u001b[0;32m    331\u001b[0m \u001b[38;5;28;01mif\u001b[39;00m \u001b[38;5;28mlen\u001b[39m(uniques) \u001b[38;5;241m>\u001b[39m \u001b[38;5;241m1\u001b[39m:\n\u001b[0;32m    332\u001b[0m     \u001b[38;5;28;01mraise\u001b[39;00m \u001b[38;5;167;01mValueError\u001b[39;00m(\n\u001b[0;32m    333\u001b[0m         \u001b[38;5;124m\"\u001b[39m\u001b[38;5;124mFound input variables with inconsistent numbers of samples: \u001b[39m\u001b[38;5;132;01m%r\u001b[39;00m\u001b[38;5;124m\"\u001b[39m\n\u001b[0;32m    334\u001b[0m         \u001b[38;5;241m%\u001b[39m [\u001b[38;5;28mint\u001b[39m(l) \u001b[38;5;28;01mfor\u001b[39;00m l \u001b[38;5;129;01min\u001b[39;00m lengths]\n\u001b[0;32m    335\u001b[0m     )\n",
      "File \u001b[1;32m<__array_function__ internals>:5\u001b[0m, in \u001b[0;36munique\u001b[1;34m(*args, **kwargs)\u001b[0m\n",
      "File \u001b[1;32m~\\anaconda3\\lib\\site-packages\\numpy\\lib\\arraysetops.py:272\u001b[0m, in \u001b[0;36munique\u001b[1;34m(ar, return_index, return_inverse, return_counts, axis)\u001b[0m\n\u001b[0;32m    270\u001b[0m ar \u001b[38;5;241m=\u001b[39m np\u001b[38;5;241m.\u001b[39masanyarray(ar)\n\u001b[0;32m    271\u001b[0m \u001b[38;5;28;01mif\u001b[39;00m axis \u001b[38;5;129;01mis\u001b[39;00m \u001b[38;5;28;01mNone\u001b[39;00m:\n\u001b[1;32m--> 272\u001b[0m     ret \u001b[38;5;241m=\u001b[39m \u001b[43m_unique1d\u001b[49m\u001b[43m(\u001b[49m\u001b[43mar\u001b[49m\u001b[43m,\u001b[49m\u001b[43m \u001b[49m\u001b[43mreturn_index\u001b[49m\u001b[43m,\u001b[49m\u001b[43m \u001b[49m\u001b[43mreturn_inverse\u001b[49m\u001b[43m,\u001b[49m\u001b[43m \u001b[49m\u001b[43mreturn_counts\u001b[49m\u001b[43m)\u001b[49m\n\u001b[0;32m    273\u001b[0m     \u001b[38;5;28;01mreturn\u001b[39;00m _unpack_tuple(ret)\n\u001b[0;32m    275\u001b[0m \u001b[38;5;66;03m# axis was specified and not None\u001b[39;00m\n",
      "File \u001b[1;32m~\\anaconda3\\lib\\site-packages\\numpy\\lib\\arraysetops.py:325\u001b[0m, in \u001b[0;36m_unique1d\u001b[1;34m(ar, return_index, return_inverse, return_counts)\u001b[0m\n\u001b[0;32m    320\u001b[0m \u001b[38;5;28;01mdef\u001b[39;00m \u001b[38;5;21m_unique1d\u001b[39m(ar, return_index\u001b[38;5;241m=\u001b[39m\u001b[38;5;28;01mFalse\u001b[39;00m, return_inverse\u001b[38;5;241m=\u001b[39m\u001b[38;5;28;01mFalse\u001b[39;00m,\n\u001b[0;32m    321\u001b[0m               return_counts\u001b[38;5;241m=\u001b[39m\u001b[38;5;28;01mFalse\u001b[39;00m):\n\u001b[0;32m    322\u001b[0m     \u001b[38;5;124;03m\"\"\"\u001b[39;00m\n\u001b[0;32m    323\u001b[0m \u001b[38;5;124;03m    Find the unique elements of an array, ignoring shape.\u001b[39;00m\n\u001b[0;32m    324\u001b[0m \u001b[38;5;124;03m    \"\"\"\u001b[39;00m\n\u001b[1;32m--> 325\u001b[0m     ar \u001b[38;5;241m=\u001b[39m \u001b[43mnp\u001b[49m\u001b[38;5;241;43m.\u001b[39;49m\u001b[43masanyarray\u001b[49m\u001b[43m(\u001b[49m\u001b[43mar\u001b[49m\u001b[43m)\u001b[49m\u001b[38;5;241;43m.\u001b[39;49m\u001b[43mflatten\u001b[49m\u001b[43m(\u001b[49m\u001b[43m)\u001b[49m\n\u001b[0;32m    327\u001b[0m     optional_indices \u001b[38;5;241m=\u001b[39m return_index \u001b[38;5;129;01mor\u001b[39;00m return_inverse\n\u001b[0;32m    329\u001b[0m     \u001b[38;5;28;01mif\u001b[39;00m optional_indices:\n",
      "\u001b[1;31mKeyboardInterrupt\u001b[0m: "
     ]
    }
   ],
   "source": [
    "mse_list = []\n",
    "a = 1\n",
    "for i in range (3):\n",
    "    #for j in range (3):\n",
    "    i=i-1\n",
    "    while i < 3:\n",
    "        y = metrics.mean_squared_error(prediction,Ytest)\n",
    "        mse_list.append(y*a)\n",
    "        #i=i-1\n",
    "        #mse_list.append(y*a)\n",
    "    if i==3:\n",
    "        break\n",
    "            #mse_list.append(y*a)\n",
    "    else:\n",
    "        print(\"mse_list.append(y*a)\")"
   ]
  },
  {
   "cell_type": "code",
   "execution_count": 418,
   "id": "2ab4ed87",
   "metadata": {},
   "outputs": [],
   "source": [
    "#format(scores[1], 50-scores[1]*50))\n",
    "#mse_list"
   ]
  },
  {
   "cell_type": "code",
   "execution_count": null,
   "id": "16be4f4a",
   "metadata": {},
   "outputs": [],
   "source": []
  },
  {
   "cell_type": "code",
   "execution_count": null,
   "id": "046b4ec2",
   "metadata": {},
   "outputs": [],
   "source": []
  },
  {
   "cell_type": "code",
   "execution_count": null,
   "id": "dc071be7",
   "metadata": {},
   "outputs": [],
   "source": []
  },
  {
   "cell_type": "code",
   "execution_count": null,
   "id": "ff6a426a",
   "metadata": {},
   "outputs": [],
   "source": []
  },
  {
   "cell_type": "code",
   "execution_count": null,
   "id": "480e734d",
   "metadata": {},
   "outputs": [],
   "source": []
  },
  {
   "cell_type": "code",
   "execution_count": null,
   "id": "2789a2db",
   "metadata": {},
   "outputs": [],
   "source": []
  },
  {
   "cell_type": "markdown",
   "id": "b1b43fef",
   "metadata": {},
   "source": [
    "B. Normalize the data (5 marks) \n",
    "\n",
    "Repeat Part A but use a normalized version of the data. Recall that one way to normalize the data is by subtracting the mean from the individual predictors and dividing by the standard deviation.\n",
    "\n",
    "How does the mean of the mean squared errors compare to that from Step A?"
   ]
  },
  {
   "cell_type": "code",
   "execution_count": 319,
   "id": "35f0482d",
   "metadata": {},
   "outputs": [],
   "source": [
    "#normalized_predictors = predictors - predictors.mean()"
   ]
  },
  {
   "cell_type": "code",
   "execution_count": 320,
   "id": "1129f745",
   "metadata": {},
   "outputs": [
    {
     "name": "stderr",
     "output_type": "stream",
     "text": [
      "C:\\Users\\Windows 10 Pro\\anaconda3\\lib\\site-packages\\numpy\\core\\fromnumeric.py:3438: FutureWarning: In a future version, DataFrame.mean(axis=None) will return a scalar mean over the entire DataFrame. To retain the old behavior, use 'frame.mean(axis=0)' or just 'frame.mean()'\n",
      "  return mean(axis=axis, dtype=dtype, out=out, **kwargs)\n"
     ]
    }
   ],
   "source": [
    "#getting the mean of the predictors \n",
    "pred_mean = np.mean(predictors)"
   ]
  },
  {
   "cell_type": "code",
   "execution_count": null,
   "id": "b4b284d8",
   "metadata": {},
   "outputs": [],
   "source": []
  },
  {
   "cell_type": "code",
   "execution_count": 333,
   "id": "4efb7748",
   "metadata": {},
   "outputs": [],
   "source": [
    "#getting the standard diviation of the predictors \n",
    "std_predictors = np.std(predictors)"
   ]
  },
  {
   "cell_type": "code",
   "execution_count": 337,
   "id": "6c0837fb",
   "metadata": {},
   "outputs": [],
   "source": [
    "# subtracting the mean of thre predictor from the actual predictors \n",
    "nor_prd = predictors - pred_mean"
   ]
  },
  {
   "cell_type": "code",
   "execution_count": 338,
   "id": "0a637b93",
   "metadata": {},
   "outputs": [],
   "source": [
    "#dividing the result of the subtracted mean by the standard diviation to get the normalized predictor\n",
    "normalized_predictors = nor_prd/std_predictors"
   ]
  },
  {
   "cell_type": "code",
   "execution_count": 339,
   "id": "05501019",
   "metadata": {},
   "outputs": [
    {
     "data": {
      "text/html": [
       "<div>\n",
       "<style scoped>\n",
       "    .dataframe tbody tr th:only-of-type {\n",
       "        vertical-align: middle;\n",
       "    }\n",
       "\n",
       "    .dataframe tbody tr th {\n",
       "        vertical-align: top;\n",
       "    }\n",
       "\n",
       "    .dataframe thead th {\n",
       "        text-align: right;\n",
       "    }\n",
       "</style>\n",
       "<table border=\"1\" class=\"dataframe\">\n",
       "  <thead>\n",
       "    <tr style=\"text-align: right;\">\n",
       "      <th></th>\n",
       "      <th>Cement</th>\n",
       "      <th>Blast Furnace Slag</th>\n",
       "      <th>Fly Ash</th>\n",
       "      <th>Water</th>\n",
       "      <th>Superplasticizer</th>\n",
       "      <th>Coarse Aggregate</th>\n",
       "      <th>Fine Aggregate</th>\n",
       "      <th>Age</th>\n",
       "    </tr>\n",
       "  </thead>\n",
       "  <tbody>\n",
       "    <tr>\n",
       "      <th>0</th>\n",
       "      <td>2.477915</td>\n",
       "      <td>-0.856888</td>\n",
       "      <td>-0.847144</td>\n",
       "      <td>-0.916764</td>\n",
       "      <td>-0.620448</td>\n",
       "      <td>0.863154</td>\n",
       "      <td>-1.217670</td>\n",
       "      <td>-0.279733</td>\n",
       "    </tr>\n",
       "    <tr>\n",
       "      <th>1</th>\n",
       "      <td>2.477915</td>\n",
       "      <td>-0.856888</td>\n",
       "      <td>-0.847144</td>\n",
       "      <td>-0.916764</td>\n",
       "      <td>-0.620448</td>\n",
       "      <td>1.056164</td>\n",
       "      <td>-1.217670</td>\n",
       "      <td>-0.279733</td>\n",
       "    </tr>\n",
       "    <tr>\n",
       "      <th>2</th>\n",
       "      <td>0.491425</td>\n",
       "      <td>0.795526</td>\n",
       "      <td>-0.847144</td>\n",
       "      <td>2.175461</td>\n",
       "      <td>-1.039143</td>\n",
       "      <td>-0.526517</td>\n",
       "      <td>-2.240917</td>\n",
       "      <td>3.553066</td>\n",
       "    </tr>\n",
       "    <tr>\n",
       "      <th>3</th>\n",
       "      <td>0.491425</td>\n",
       "      <td>0.795526</td>\n",
       "      <td>-0.847144</td>\n",
       "      <td>2.175461</td>\n",
       "      <td>-1.039143</td>\n",
       "      <td>-0.526517</td>\n",
       "      <td>-2.240917</td>\n",
       "      <td>5.057677</td>\n",
       "    </tr>\n",
       "    <tr>\n",
       "      <th>4</th>\n",
       "      <td>-0.790459</td>\n",
       "      <td>0.678408</td>\n",
       "      <td>-0.847144</td>\n",
       "      <td>0.488793</td>\n",
       "      <td>-1.039143</td>\n",
       "      <td>0.070527</td>\n",
       "      <td>0.647884</td>\n",
       "      <td>4.978487</td>\n",
       "    </tr>\n",
       "  </tbody>\n",
       "</table>\n",
       "</div>"
      ],
      "text/plain": [
       "     Cement  Blast Furnace Slag   Fly Ash     Water  Superplasticizer  \\\n",
       "0  2.477915           -0.856888 -0.847144 -0.916764         -0.620448   \n",
       "1  2.477915           -0.856888 -0.847144 -0.916764         -0.620448   \n",
       "2  0.491425            0.795526 -0.847144  2.175461         -1.039143   \n",
       "3  0.491425            0.795526 -0.847144  2.175461         -1.039143   \n",
       "4 -0.790459            0.678408 -0.847144  0.488793         -1.039143   \n",
       "\n",
       "   Coarse Aggregate  Fine Aggregate       Age  \n",
       "0          0.863154       -1.217670 -0.279733  \n",
       "1          1.056164       -1.217670 -0.279733  \n",
       "2         -0.526517       -2.240917  3.553066  \n",
       "3         -0.526517       -2.240917  5.057677  \n",
       "4          0.070527        0.647884  4.978487  "
      ]
     },
     "execution_count": 339,
     "metadata": {},
     "output_type": "execute_result"
    }
   ],
   "source": [
    "#Viewing the head of the normalized predictor \n",
    "normalized_predictors.head()"
   ]
  },
  {
   "cell_type": "code",
   "execution_count": 357,
   "id": "e58ca625",
   "metadata": {},
   "outputs": [],
   "source": [
    "# Saving the normalixed prediction and the target into x and y \n",
    "X = normalized_predictors \n",
    "Y = data[\"Strength\"]\n",
    "# passing the data for training and testing and 0.3 represnting the 30% held for testing using sklearn\n",
    "X_train,X_test,Y_train,Y_test = train_test_split(X,Y)"
   ]
  },
  {
   "cell_type": "code",
   "execution_count": 379,
   "id": "f4f0d5c1",
   "metadata": {},
   "outputs": [],
   "source": [
    "# saving the input shape as 8 since it has 8 attributes \n",
    "no_of_col = 8\n",
    "# setting up the model \n",
    "Model = Sequential()\n",
    "Model.add(Dense(10,activation=\"relu\",input_shape=(no_of_col,)))\n",
    "Model.add(Dense(1))\n",
    "Model.compile(optimizer=\"adam\",loss='mean_squared_error')\n",
    "              #metrics=['accuracy']\n"
   ]
  },
  {
   "cell_type": "code",
   "execution_count": 381,
   "id": "c5b10f18",
   "metadata": {},
   "outputs": [
    {
     "name": "stdout",
     "output_type": "stream",
     "text": [
      "Epoch 1/50\n",
      "17/17 - 0s - loss: 743.9146 - val_loss: 759.2930 - 196ms/epoch - 12ms/step\n",
      "Epoch 2/50\n",
      "17/17 - 0s - loss: 723.3090 - val_loss: 738.4479 - 97ms/epoch - 6ms/step\n",
      "Epoch 3/50\n",
      "17/17 - 0s - loss: 703.1921 - val_loss: 717.9137 - 98ms/epoch - 6ms/step\n",
      "Epoch 4/50\n",
      "17/17 - 0s - loss: 683.1007 - val_loss: 698.1074 - 94ms/epoch - 6ms/step\n",
      "Epoch 5/50\n",
      "17/17 - 0s - loss: 663.8342 - val_loss: 678.0814 - 98ms/epoch - 6ms/step\n",
      "Epoch 6/50\n",
      "17/17 - 0s - loss: 644.5253 - val_loss: 658.4811 - 97ms/epoch - 6ms/step\n",
      "Epoch 7/50\n",
      "17/17 - 0s - loss: 625.3588 - val_loss: 639.7584 - 97ms/epoch - 6ms/step\n",
      "Epoch 8/50\n",
      "17/17 - 0s - loss: 607.1187 - val_loss: 620.9125 - 95ms/epoch - 6ms/step\n",
      "Epoch 9/50\n",
      "17/17 - 0s - loss: 588.5199 - val_loss: 603.1100 - 100ms/epoch - 6ms/step\n",
      "Epoch 10/50\n",
      "17/17 - 0s - loss: 571.0530 - val_loss: 585.0416 - 99ms/epoch - 6ms/step\n",
      "Epoch 11/50\n",
      "17/17 - 0s - loss: 553.4731 - val_loss: 567.4406 - 100ms/epoch - 6ms/step\n",
      "Epoch 12/50\n",
      "17/17 - 0s - loss: 536.1514 - val_loss: 550.4871 - 94ms/epoch - 6ms/step\n",
      "Epoch 13/50\n",
      "17/17 - 0s - loss: 519.1573 - val_loss: 533.9113 - 96ms/epoch - 6ms/step\n",
      "Epoch 14/50\n",
      "17/17 - 0s - loss: 502.7075 - val_loss: 517.5349 - 95ms/epoch - 6ms/step\n",
      "Epoch 15/50\n",
      "17/17 - 0s - loss: 486.5258 - val_loss: 501.3727 - 97ms/epoch - 6ms/step\n",
      "Epoch 16/50\n",
      "17/17 - 0s - loss: 470.4987 - val_loss: 485.8839 - 99ms/epoch - 6ms/step\n",
      "Epoch 17/50\n",
      "17/17 - 0s - loss: 454.9047 - val_loss: 470.8932 - 97ms/epoch - 6ms/step\n",
      "Epoch 18/50\n",
      "17/17 - 0s - loss: 440.1977 - val_loss: 455.8092 - 93ms/epoch - 5ms/step\n",
      "Epoch 19/50\n",
      "17/17 - 0s - loss: 425.3222 - val_loss: 441.7577 - 98ms/epoch - 6ms/step\n",
      "Epoch 20/50\n",
      "17/17 - 0s - loss: 411.3092 - val_loss: 428.1432 - 99ms/epoch - 6ms/step\n",
      "Epoch 21/50\n",
      "17/17 - 0s - loss: 397.7671 - val_loss: 415.0883 - 98ms/epoch - 6ms/step\n",
      "Epoch 22/50\n",
      "17/17 - 0s - loss: 384.5804 - val_loss: 402.7720 - 100ms/epoch - 6ms/step\n",
      "Epoch 23/50\n",
      "17/17 - 0s - loss: 372.3229 - val_loss: 390.8899 - 100ms/epoch - 6ms/step\n",
      "Epoch 24/50\n",
      "17/17 - 0s - loss: 360.2343 - val_loss: 379.9016 - 97ms/epoch - 6ms/step\n",
      "Epoch 25/50\n",
      "17/17 - 0s - loss: 349.0952 - val_loss: 369.3157 - 94ms/epoch - 6ms/step\n",
      "Epoch 26/50\n",
      "17/17 - 0s - loss: 338.3712 - val_loss: 359.1663 - 91ms/epoch - 5ms/step\n",
      "Epoch 27/50\n",
      "17/17 - 0s - loss: 328.3679 - val_loss: 349.5359 - 98ms/epoch - 6ms/step\n",
      "Epoch 28/50\n",
      "17/17 - 0s - loss: 318.3628 - val_loss: 341.2015 - 93ms/epoch - 5ms/step\n",
      "Epoch 29/50\n",
      "17/17 - 0s - loss: 309.5326 - val_loss: 333.1490 - 121ms/epoch - 7ms/step\n",
      "Epoch 30/50\n",
      "17/17 - 0s - loss: 301.1806 - val_loss: 325.2122 - 96ms/epoch - 6ms/step\n",
      "Epoch 31/50\n",
      "17/17 - 0s - loss: 293.0625 - val_loss: 318.1296 - 107ms/epoch - 6ms/step\n",
      "Epoch 32/50\n",
      "17/17 - 0s - loss: 285.6754 - val_loss: 311.3482 - 97ms/epoch - 6ms/step\n",
      "Epoch 33/50\n",
      "17/17 - 0s - loss: 278.5300 - val_loss: 305.2823 - 96ms/epoch - 6ms/step\n",
      "Epoch 34/50\n",
      "17/17 - 0s - loss: 272.0639 - val_loss: 299.5679 - 101ms/epoch - 6ms/step\n",
      "Epoch 35/50\n",
      "17/17 - 0s - loss: 265.9507 - val_loss: 294.2324 - 96ms/epoch - 6ms/step\n",
      "Epoch 36/50\n",
      "17/17 - 0s - loss: 260.1042 - val_loss: 289.4512 - 120ms/epoch - 7ms/step\n",
      "Epoch 37/50\n",
      "17/17 - 0s - loss: 254.8010 - val_loss: 284.9822 - 131ms/epoch - 8ms/step\n",
      "Epoch 38/50\n",
      "17/17 - 0s - loss: 249.9078 - val_loss: 280.6747 - 120ms/epoch - 7ms/step\n",
      "Epoch 39/50\n",
      "17/17 - 0s - loss: 245.3078 - val_loss: 276.6601 - 93ms/epoch - 5ms/step\n",
      "Epoch 40/50\n",
      "17/17 - 0s - loss: 240.8132 - val_loss: 273.1979 - 106ms/epoch - 6ms/step\n",
      "Epoch 41/50\n",
      "17/17 - 0s - loss: 237.0538 - val_loss: 269.7125 - 112ms/epoch - 7ms/step\n",
      "Epoch 42/50\n",
      "17/17 - 0s - loss: 233.0685 - val_loss: 266.7343 - 117ms/epoch - 7ms/step\n",
      "Epoch 43/50\n",
      "17/17 - 0s - loss: 229.6524 - val_loss: 263.8617 - 113ms/epoch - 7ms/step\n",
      "Epoch 44/50\n",
      "17/17 - 0s - loss: 226.3016 - val_loss: 261.2409 - 97ms/epoch - 6ms/step\n",
      "Epoch 45/50\n",
      "17/17 - 0s - loss: 223.2273 - val_loss: 258.8201 - 103ms/epoch - 6ms/step\n",
      "Epoch 46/50\n",
      "17/17 - 0s - loss: 220.3487 - val_loss: 256.4491 - 111ms/epoch - 7ms/step\n",
      "Epoch 47/50\n",
      "17/17 - 0s - loss: 217.5529 - val_loss: 254.2549 - 96ms/epoch - 6ms/step\n",
      "Epoch 48/50\n",
      "17/17 - 0s - loss: 214.9366 - val_loss: 252.2499 - 97ms/epoch - 6ms/step\n",
      "Epoch 49/50\n",
      "17/17 - 0s - loss: 212.5223 - val_loss: 250.2855 - 96ms/epoch - 6ms/step\n",
      "Epoch 50/50\n",
      "17/17 - 0s - loss: 210.2228 - val_loss: 248.4761 - 97ms/epoch - 6ms/step\n"
     ]
    }
   ],
   "source": [
    "#fitting the traing and testing data into the model \n",
    "Model.fit(X_train,Y_train,validation_split=0.3,epochs=50,verbose=2)\n",
    "scores = Model.evaluate(X_test, Y_test, verbose=0)\n",
    "#print(\"Accuracy: {} \\n Error: {}\".format(scores[1], 50-scores[1]*50))"
   ]
  },
  {
   "cell_type": "code",
   "execution_count": null,
   "id": "45e99ca0",
   "metadata": {},
   "outputs": [],
   "source": [
    "# build the model\n",
    "#model = convolutional_model()\n",
    "\n",
    "# fit the model\n",
    "#model.fit(X_train, y_train, validation_data=(X_test, y_test), epochs=10, batch_size=200, verbose=2)\n",
    "\n",
    "# evaluate the model\n",
    "#scores = model.evaluate(X_test, y_test, verbose=0)\n",
    "#print(\"Accuracy: {} \\n Error: {}\".format(scores[1], 100-scores[1]*100))"
   ]
  },
  {
   "cell_type": "code",
   "execution_count": 388,
   "id": "a416d6bd",
   "metadata": {},
   "outputs": [
    {
     "name": "stdout",
     "output_type": "stream",
     "text": [
      "Accuracy: 247.15577697753906 \n",
      " Error: -12307.788848876953\n"
     ]
    }
   ],
   "source": [
    "print(\"Accuracy: {} \\n Error: {}\".format(scores, 50-scores*50))"
   ]
  },
  {
   "cell_type": "code",
   "execution_count": null,
   "id": "7596e2d7",
   "metadata": {},
   "outputs": [],
   "source": []
  },
  {
   "cell_type": "code",
   "execution_count": null,
   "id": "f4ae2f9f",
   "metadata": {},
   "outputs": [],
   "source": []
  },
  {
   "cell_type": "markdown",
   "id": "89a18312",
   "metadata": {},
   "source": [
    "C. Increate the number of epochs (5 marks)\n",
    "\n",
    "Repeat Part B but use 100 epochs this time for training.\n",
    "\n",
    "How does the mean of the mean squared errors compare to that from Step B?"
   ]
  },
  {
   "cell_type": "code",
   "execution_count": null,
   "id": "dc73b013",
   "metadata": {},
   "outputs": [],
   "source": []
  },
  {
   "cell_type": "code",
   "execution_count": null,
   "id": "63bc3388",
   "metadata": {},
   "outputs": [],
   "source": [
    "# saving the input shape as 8 since it has 8 attributes \n",
    "no_of_col = 8\n",
    "# setting up the model \n",
    "Model = Sequential()\n",
    "Model.add(Dense(10,activation=\"relu\",input_shape=(no_of_col,)))\n",
    "Model.add(Dense(1))\n",
    "Model.compile(optimizer=\"adam\",loss='mean_squared_error')\n",
    "              #metrics=['accuracy']"
   ]
  },
  {
   "cell_type": "code",
   "execution_count": null,
   "id": "8ce24926",
   "metadata": {},
   "outputs": [],
   "source": [
    "#fitting the traing and testing data into the model \n",
    "Model.fit(X_train,Y_train,validation_split=0.3,epochs=100,verbose=2)\n",
    "scores = Model.evaluate(X_test, Y_test, verbose=0)\n",
    "#print(\"Accuracy: {} \\n Error: {}\".format(scores[1], 50-scores[1]*50))"
   ]
  },
  {
   "cell_type": "code",
   "execution_count": null,
   "id": "dfa1868c",
   "metadata": {},
   "outputs": [],
   "source": []
  },
  {
   "cell_type": "code",
   "execution_count": null,
   "id": "4c0fa8f0",
   "metadata": {},
   "outputs": [],
   "source": []
  },
  {
   "cell_type": "markdown",
   "id": "51a90c85",
   "metadata": {},
   "source": [
    "D. Increase the number of hidden layers (5 marks)\n",
    "\n",
    "Repeat part B but use a neural network with the following instead:\n",
    "\n",
    "- Three hidden layers, each of 10 nodes and ReLU activation function.\n",
    "\n",
    "How does the mean of the mean squared errors compare to that from Step B?"
   ]
  },
  {
   "cell_type": "code",
   "execution_count": null,
   "id": "ac42f6de",
   "metadata": {},
   "outputs": [],
   "source": []
  },
  {
   "cell_type": "code",
   "execution_count": null,
   "id": "ab62d07f",
   "metadata": {},
   "outputs": [],
   "source": [
    "# saving the input shape as 8 since it has 8 attributes \n",
    "no_of_col = 8\n",
    "# setting up the model \n",
    "Model = Sequential()\n",
    "Model.add(Dense(10,activation=\"relu\",input_shape=(no_of_col,)))\n",
    "Model.add(Dense(10,activation=\"relu\"))\n",
    "Model.add(Dense(10,activation=\"relu\"))\n",
    "Model.add(Dense(1))\n",
    "Model.compile(optimizer=\"adam\",loss='mean_squared_error')\n",
    "              #metrics=['accuracy']"
   ]
  },
  {
   "cell_type": "code",
   "execution_count": null,
   "id": "bbcf33bc",
   "metadata": {},
   "outputs": [],
   "source": [
    "#fitting the traing and testing data into the model \n",
    "Model.fit(X_train,Y_train,validation_split=0.3,epochs=100,verbose=2)\n",
    "scores = Model.evaluate(X_test, Y_test, verbose=0)\n",
    "#print(\"Accuracy: {} \\n Error: {}\".format(scores[1], 50-scores[1]*50))"
   ]
  },
  {
   "cell_type": "code",
   "execution_count": null,
   "id": "2ce56063",
   "metadata": {},
   "outputs": [],
   "source": []
  },
  {
   "cell_type": "code",
   "execution_count": null,
   "id": "b1b8acbe",
   "metadata": {},
   "outputs": [],
   "source": []
  }
 ],
 "metadata": {
  "kernelspec": {
   "display_name": "Python 3 (ipykernel)",
   "language": "python",
   "name": "python3"
  },
  "language_info": {
   "codemirror_mode": {
    "name": "ipython",
    "version": 3
   },
   "file_extension": ".py",
   "mimetype": "text/x-python",
   "name": "python",
   "nbconvert_exporter": "python",
   "pygments_lexer": "ipython3",
   "version": "3.9.12"
  }
 },
 "nbformat": 4,
 "nbformat_minor": 5
}
